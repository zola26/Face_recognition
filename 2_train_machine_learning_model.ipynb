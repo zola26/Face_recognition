{
 "cells": [
  {
   "cell_type": "code",
   "execution_count": 1,
   "metadata": {
    "id": "6mjFnF7K7Vm7"
   },
   "outputs": [],
   "source": [
    "import numpy as np\n",
    "import pandas as pd\n",
    "import pickle"
   ]
  },
  {
   "cell_type": "markdown",
   "metadata": {
    "id": "c9AtnU3g7Vm_"
   },
   "source": [
    "# 1. Data\n",
    "- Load data from pickle file\n",
    "- split the data into independent and dependent\n",
    "- split to train and test set"
   ]
  },
  {
   "cell_type": "code",
   "execution_count": 2,
   "metadata": {
    "id": "Ybz772Xo7Vm_"
   },
   "outputs": [],
   "source": [
    "data = pickle.load(open('data_face_features.pickle',mode='rb'))"
   ]
  },
  {
   "cell_type": "code",
   "execution_count": 3,
   "metadata": {
    "id": "Rqp9QXbu7VnC"
   },
   "outputs": [],
   "source": [
    "X = np.array(data['data']) # indendepent variable\n",
    "y = np.array(data['label']) # dependent variable"
   ]
  },
  {
   "cell_type": "code",
   "execution_count": 4,
   "metadata": {
    "id": "hf5VJgiA7VnC",
    "outputId": "f7fabcb5-e56e-4701-e74b-db8e89539622"
   },
   "outputs": [
    {
     "data": {
      "text/plain": [
       "((394, 1, 128), (394,))"
      ]
     },
     "execution_count": 4,
     "metadata": {},
     "output_type": "execute_result"
    }
   ],
   "source": [
    "X.shape , y.shape"
   ]
  },
  {
   "cell_type": "code",
   "execution_count": 5,
   "metadata": {
    "id": "tHXfHcoC7VnE",
    "outputId": "61f551ac-ea5a-4bb3-8f58-eb6642877a4d"
   },
   "outputs": [
    {
     "data": {
      "text/plain": [
       "(394, 128)"
      ]
     },
     "execution_count": 5,
     "metadata": {},
     "output_type": "execute_result"
    }
   ],
   "source": [
    "X = X.reshape(-1,128)\n",
    "X.shape"
   ]
  },
  {
   "cell_type": "code",
   "execution_count": 6,
   "metadata": {
    "id": "teF978nJ7VnF"
   },
   "outputs": [],
   "source": [
    "# split the data into train and test\n",
    "from sklearn.model_selection import train_test_split"
   ]
  },
  {
   "cell_type": "code",
   "execution_count": 7,
   "metadata": {
    "id": "xNKFRtrf7VnG"
   },
   "outputs": [],
   "source": [
    "x_train,x_test,y_train,y_test = train_test_split(X,y,train_size=0.8,random_state=0)"
   ]
  },
  {
   "cell_type": "code",
   "execution_count": 8,
   "metadata": {
    "id": "rwyxZB3a7VnG",
    "outputId": "42488751-0622-42ea-b293-8f3ea9986306"
   },
   "outputs": [
    {
     "data": {
      "text/plain": [
       "((315, 128), (79, 128), (315,), (79,))"
      ]
     },
     "execution_count": 8,
     "metadata": {},
     "output_type": "execute_result"
    }
   ],
   "source": [
    "x_train.shape, x_test.shape, y_train.shape, y_test.shape"
   ]
  },
  {
   "cell_type": "markdown",
   "metadata": {
    "id": "7QQF0DpS7VnH"
   },
   "source": [
    "# 2. Train Machine Learning"
   ]
  },
  {
   "cell_type": "code",
   "execution_count": 9,
   "metadata": {
    "id": "algXXiu67VnI"
   },
   "outputs": [],
   "source": [
    "from sklearn.linear_model import LogisticRegression\n",
    "from sklearn.svm import SVC\n",
    "from sklearn.ensemble import RandomForestClassifier\n",
    "from sklearn.ensemble import VotingClassifier\n",
    "from sklearn.metrics import classification_report, accuracy_score, f1_score"
   ]
  },
  {
   "cell_type": "markdown",
   "metadata": {
    "id": "4yRGh-Km7VnI"
   },
   "source": [
    "### Logistic Regression"
   ]
  },
  {
   "cell_type": "code",
   "execution_count": 10,
   "metadata": {
    "id": "GvEV_veK7VnJ",
    "outputId": "86afeb2f-b717-411e-ef8d-540ffe2aa2ae"
   },
   "outputs": [
    {
     "data": {
      "text/html": [
       "<style>#sk-container-id-1 {color: black;}#sk-container-id-1 pre{padding: 0;}#sk-container-id-1 div.sk-toggleable {background-color: white;}#sk-container-id-1 label.sk-toggleable__label {cursor: pointer;display: block;width: 100%;margin-bottom: 0;padding: 0.3em;box-sizing: border-box;text-align: center;}#sk-container-id-1 label.sk-toggleable__label-arrow:before {content: \"▸\";float: left;margin-right: 0.25em;color: #696969;}#sk-container-id-1 label.sk-toggleable__label-arrow:hover:before {color: black;}#sk-container-id-1 div.sk-estimator:hover label.sk-toggleable__label-arrow:before {color: black;}#sk-container-id-1 div.sk-toggleable__content {max-height: 0;max-width: 0;overflow: hidden;text-align: left;background-color: #f0f8ff;}#sk-container-id-1 div.sk-toggleable__content pre {margin: 0.2em;color: black;border-radius: 0.25em;background-color: #f0f8ff;}#sk-container-id-1 input.sk-toggleable__control:checked~div.sk-toggleable__content {max-height: 200px;max-width: 100%;overflow: auto;}#sk-container-id-1 input.sk-toggleable__control:checked~label.sk-toggleable__label-arrow:before {content: \"▾\";}#sk-container-id-1 div.sk-estimator input.sk-toggleable__control:checked~label.sk-toggleable__label {background-color: #d4ebff;}#sk-container-id-1 div.sk-label input.sk-toggleable__control:checked~label.sk-toggleable__label {background-color: #d4ebff;}#sk-container-id-1 input.sk-hidden--visually {border: 0;clip: rect(1px 1px 1px 1px);clip: rect(1px, 1px, 1px, 1px);height: 1px;margin: -1px;overflow: hidden;padding: 0;position: absolute;width: 1px;}#sk-container-id-1 div.sk-estimator {font-family: monospace;background-color: #f0f8ff;border: 1px dotted black;border-radius: 0.25em;box-sizing: border-box;margin-bottom: 0.5em;}#sk-container-id-1 div.sk-estimator:hover {background-color: #d4ebff;}#sk-container-id-1 div.sk-parallel-item::after {content: \"\";width: 100%;border-bottom: 1px solid gray;flex-grow: 1;}#sk-container-id-1 div.sk-label:hover label.sk-toggleable__label {background-color: #d4ebff;}#sk-container-id-1 div.sk-serial::before {content: \"\";position: absolute;border-left: 1px solid gray;box-sizing: border-box;top: 0;bottom: 0;left: 50%;z-index: 0;}#sk-container-id-1 div.sk-serial {display: flex;flex-direction: column;align-items: center;background-color: white;padding-right: 0.2em;padding-left: 0.2em;position: relative;}#sk-container-id-1 div.sk-item {position: relative;z-index: 1;}#sk-container-id-1 div.sk-parallel {display: flex;align-items: stretch;justify-content: center;background-color: white;position: relative;}#sk-container-id-1 div.sk-item::before, #sk-container-id-1 div.sk-parallel-item::before {content: \"\";position: absolute;border-left: 1px solid gray;box-sizing: border-box;top: 0;bottom: 0;left: 50%;z-index: -1;}#sk-container-id-1 div.sk-parallel-item {display: flex;flex-direction: column;z-index: 1;position: relative;background-color: white;}#sk-container-id-1 div.sk-parallel-item:first-child::after {align-self: flex-end;width: 50%;}#sk-container-id-1 div.sk-parallel-item:last-child::after {align-self: flex-start;width: 50%;}#sk-container-id-1 div.sk-parallel-item:only-child::after {width: 0;}#sk-container-id-1 div.sk-dashed-wrapped {border: 1px dashed gray;margin: 0 0.4em 0.5em 0.4em;box-sizing: border-box;padding-bottom: 0.4em;background-color: white;}#sk-container-id-1 div.sk-label label {font-family: monospace;font-weight: bold;display: inline-block;line-height: 1.2em;}#sk-container-id-1 div.sk-label-container {text-align: center;}#sk-container-id-1 div.sk-container {/* jupyter's `normalize.less` sets `[hidden] { display: none; }` but bootstrap.min.css set `[hidden] { display: none !important; }` so we also need the `!important` here to be able to override the default hidden behavior on the sphinx rendered scikit-learn.org. See: https://github.com/scikit-learn/scikit-learn/issues/21755 */display: inline-block !important;position: relative;}#sk-container-id-1 div.sk-text-repr-fallback {display: none;}</style><div id=\"sk-container-id-1\" class=\"sk-top-container\"><div class=\"sk-text-repr-fallback\"><pre>LogisticRegression()</pre><b>In a Jupyter environment, please rerun this cell to show the HTML representation or trust the notebook. <br />On GitHub, the HTML representation is unable to render, please try loading this page with nbviewer.org.</b></div><div class=\"sk-container\" hidden><div class=\"sk-item\"><div class=\"sk-estimator sk-toggleable\"><input class=\"sk-toggleable__control sk-hidden--visually\" id=\"sk-estimator-id-1\" type=\"checkbox\" checked><label for=\"sk-estimator-id-1\" class=\"sk-toggleable__label sk-toggleable__label-arrow\">LogisticRegression</label><div class=\"sk-toggleable__content\"><pre>LogisticRegression()</pre></div></div></div></div></div>"
      ],
      "text/plain": [
       "LogisticRegression()"
      ]
     },
     "execution_count": 10,
     "metadata": {},
     "output_type": "execute_result"
    }
   ],
   "source": [
    "model_logistic = LogisticRegression()\n",
    "model_logistic.fit(x_train,y_train) # training logistic regression"
   ]
  },
  {
   "cell_type": "code",
   "execution_count": 11,
   "metadata": {
    "id": "9WfK0sZx7VnK"
   },
   "outputs": [],
   "source": [
    "def get_report(model, x_train,y_train,x_test,y_test):\n",
    "    y_pred_train = model.predict(x_train)\n",
    "    y_pred_test = model.predict(x_test)\n",
    "\n",
    "    # accuracy score\n",
    "    acc_train = accuracy_score(y_train,y_pred_train)\n",
    "    acc_test = accuracy_score(y_test,y_pred_test)\n",
    "\n",
    "    # f1 score\n",
    "    f1_score_train = f1_score(y_train,y_pred_train,average='macro')\n",
    "    f1_score_test = f1_score(y_test,y_pred_test,average='macro')\n",
    "\n",
    "\n",
    "    print('Accuracy Train = %0.2f'%acc_train)\n",
    "    print('Accuracy Test = %0.2f'%acc_test)\n",
    "    print('F1 Score Train = %0.2f'%f1_score_train)\n",
    "    print('F1 Score Test = %0.2f'%f1_score_test)"
   ]
  },
  {
   "cell_type": "code",
   "execution_count": 12,
   "metadata": {
    "id": "ZTEDp6qr7VnK",
    "outputId": "ac001174-ba7f-4607-def1-f2ffe2dc294d"
   },
   "outputs": [
    {
     "name": "stdout",
     "output_type": "stream",
     "text": [
      "Accuracy Train = 0.90\n",
      "Accuracy Test = 0.84\n",
      "F1 Score Train = 0.91\n",
      "F1 Score Test = 0.83\n"
     ]
    }
   ],
   "source": [
    "get_report(model_logistic,x_train,y_train,x_test,y_test)"
   ]
  },
  {
   "cell_type": "markdown",
   "metadata": {
    "id": "fTk_qnkL7VnK"
   },
   "source": [
    "### Support Vector Machines"
   ]
  },
  {
   "cell_type": "code",
   "execution_count": 13,
   "metadata": {
    "id": "N0r87Z8V7VnL",
    "outputId": "b89bdacb-2af5-466c-f439-950995534a84"
   },
   "outputs": [
    {
     "data": {
      "text/html": [
       "<style>#sk-container-id-2 {color: black;}#sk-container-id-2 pre{padding: 0;}#sk-container-id-2 div.sk-toggleable {background-color: white;}#sk-container-id-2 label.sk-toggleable__label {cursor: pointer;display: block;width: 100%;margin-bottom: 0;padding: 0.3em;box-sizing: border-box;text-align: center;}#sk-container-id-2 label.sk-toggleable__label-arrow:before {content: \"▸\";float: left;margin-right: 0.25em;color: #696969;}#sk-container-id-2 label.sk-toggleable__label-arrow:hover:before {color: black;}#sk-container-id-2 div.sk-estimator:hover label.sk-toggleable__label-arrow:before {color: black;}#sk-container-id-2 div.sk-toggleable__content {max-height: 0;max-width: 0;overflow: hidden;text-align: left;background-color: #f0f8ff;}#sk-container-id-2 div.sk-toggleable__content pre {margin: 0.2em;color: black;border-radius: 0.25em;background-color: #f0f8ff;}#sk-container-id-2 input.sk-toggleable__control:checked~div.sk-toggleable__content {max-height: 200px;max-width: 100%;overflow: auto;}#sk-container-id-2 input.sk-toggleable__control:checked~label.sk-toggleable__label-arrow:before {content: \"▾\";}#sk-container-id-2 div.sk-estimator input.sk-toggleable__control:checked~label.sk-toggleable__label {background-color: #d4ebff;}#sk-container-id-2 div.sk-label input.sk-toggleable__control:checked~label.sk-toggleable__label {background-color: #d4ebff;}#sk-container-id-2 input.sk-hidden--visually {border: 0;clip: rect(1px 1px 1px 1px);clip: rect(1px, 1px, 1px, 1px);height: 1px;margin: -1px;overflow: hidden;padding: 0;position: absolute;width: 1px;}#sk-container-id-2 div.sk-estimator {font-family: monospace;background-color: #f0f8ff;border: 1px dotted black;border-radius: 0.25em;box-sizing: border-box;margin-bottom: 0.5em;}#sk-container-id-2 div.sk-estimator:hover {background-color: #d4ebff;}#sk-container-id-2 div.sk-parallel-item::after {content: \"\";width: 100%;border-bottom: 1px solid gray;flex-grow: 1;}#sk-container-id-2 div.sk-label:hover label.sk-toggleable__label {background-color: #d4ebff;}#sk-container-id-2 div.sk-serial::before {content: \"\";position: absolute;border-left: 1px solid gray;box-sizing: border-box;top: 0;bottom: 0;left: 50%;z-index: 0;}#sk-container-id-2 div.sk-serial {display: flex;flex-direction: column;align-items: center;background-color: white;padding-right: 0.2em;padding-left: 0.2em;position: relative;}#sk-container-id-2 div.sk-item {position: relative;z-index: 1;}#sk-container-id-2 div.sk-parallel {display: flex;align-items: stretch;justify-content: center;background-color: white;position: relative;}#sk-container-id-2 div.sk-item::before, #sk-container-id-2 div.sk-parallel-item::before {content: \"\";position: absolute;border-left: 1px solid gray;box-sizing: border-box;top: 0;bottom: 0;left: 50%;z-index: -1;}#sk-container-id-2 div.sk-parallel-item {display: flex;flex-direction: column;z-index: 1;position: relative;background-color: white;}#sk-container-id-2 div.sk-parallel-item:first-child::after {align-self: flex-end;width: 50%;}#sk-container-id-2 div.sk-parallel-item:last-child::after {align-self: flex-start;width: 50%;}#sk-container-id-2 div.sk-parallel-item:only-child::after {width: 0;}#sk-container-id-2 div.sk-dashed-wrapped {border: 1px dashed gray;margin: 0 0.4em 0.5em 0.4em;box-sizing: border-box;padding-bottom: 0.4em;background-color: white;}#sk-container-id-2 div.sk-label label {font-family: monospace;font-weight: bold;display: inline-block;line-height: 1.2em;}#sk-container-id-2 div.sk-label-container {text-align: center;}#sk-container-id-2 div.sk-container {/* jupyter's `normalize.less` sets `[hidden] { display: none; }` but bootstrap.min.css set `[hidden] { display: none !important; }` so we also need the `!important` here to be able to override the default hidden behavior on the sphinx rendered scikit-learn.org. See: https://github.com/scikit-learn/scikit-learn/issues/21755 */display: inline-block !important;position: relative;}#sk-container-id-2 div.sk-text-repr-fallback {display: none;}</style><div id=\"sk-container-id-2\" class=\"sk-top-container\"><div class=\"sk-text-repr-fallback\"><pre>SVC(probability=True)</pre><b>In a Jupyter environment, please rerun this cell to show the HTML representation or trust the notebook. <br />On GitHub, the HTML representation is unable to render, please try loading this page with nbviewer.org.</b></div><div class=\"sk-container\" hidden><div class=\"sk-item\"><div class=\"sk-estimator sk-toggleable\"><input class=\"sk-toggleable__control sk-hidden--visually\" id=\"sk-estimator-id-2\" type=\"checkbox\" checked><label for=\"sk-estimator-id-2\" class=\"sk-toggleable__label sk-toggleable__label-arrow\">SVC</label><div class=\"sk-toggleable__content\"><pre>SVC(probability=True)</pre></div></div></div></div></div>"
      ],
      "text/plain": [
       "SVC(probability=True)"
      ]
     },
     "execution_count": 13,
     "metadata": {},
     "output_type": "execute_result"
    }
   ],
   "source": [
    "model_svc = SVC(probability=True)\n",
    "model_svc.fit(x_train,y_train)"
   ]
  },
  {
   "cell_type": "code",
   "execution_count": 14,
   "metadata": {
    "id": "sLjmlSDl7VnL",
    "outputId": "e81b67fa-89e2-4c53-f361-c09a6d9c3a86"
   },
   "outputs": [
    {
     "name": "stdout",
     "output_type": "stream",
     "text": [
      "Accuracy Train = 0.95\n",
      "Accuracy Test = 0.90\n",
      "F1 Score Train = 0.95\n",
      "F1 Score Test = 0.90\n"
     ]
    }
   ],
   "source": [
    "get_report(model_svc,x_train,y_train,x_test,y_test)"
   ]
  },
  {
   "cell_type": "markdown",
   "metadata": {
    "id": "TnrMdSBQ7VnM"
   },
   "source": [
    "### Random Forest"
   ]
  },
  {
   "cell_type": "code",
   "execution_count": 15,
   "metadata": {
    "id": "LIkKmOgB7VnM",
    "outputId": "79324d9e-4563-499a-d768-a32a64bccaa9"
   },
   "outputs": [
    {
     "data": {
      "text/html": [
       "<style>#sk-container-id-3 {color: black;}#sk-container-id-3 pre{padding: 0;}#sk-container-id-3 div.sk-toggleable {background-color: white;}#sk-container-id-3 label.sk-toggleable__label {cursor: pointer;display: block;width: 100%;margin-bottom: 0;padding: 0.3em;box-sizing: border-box;text-align: center;}#sk-container-id-3 label.sk-toggleable__label-arrow:before {content: \"▸\";float: left;margin-right: 0.25em;color: #696969;}#sk-container-id-3 label.sk-toggleable__label-arrow:hover:before {color: black;}#sk-container-id-3 div.sk-estimator:hover label.sk-toggleable__label-arrow:before {color: black;}#sk-container-id-3 div.sk-toggleable__content {max-height: 0;max-width: 0;overflow: hidden;text-align: left;background-color: #f0f8ff;}#sk-container-id-3 div.sk-toggleable__content pre {margin: 0.2em;color: black;border-radius: 0.25em;background-color: #f0f8ff;}#sk-container-id-3 input.sk-toggleable__control:checked~div.sk-toggleable__content {max-height: 200px;max-width: 100%;overflow: auto;}#sk-container-id-3 input.sk-toggleable__control:checked~label.sk-toggleable__label-arrow:before {content: \"▾\";}#sk-container-id-3 div.sk-estimator input.sk-toggleable__control:checked~label.sk-toggleable__label {background-color: #d4ebff;}#sk-container-id-3 div.sk-label input.sk-toggleable__control:checked~label.sk-toggleable__label {background-color: #d4ebff;}#sk-container-id-3 input.sk-hidden--visually {border: 0;clip: rect(1px 1px 1px 1px);clip: rect(1px, 1px, 1px, 1px);height: 1px;margin: -1px;overflow: hidden;padding: 0;position: absolute;width: 1px;}#sk-container-id-3 div.sk-estimator {font-family: monospace;background-color: #f0f8ff;border: 1px dotted black;border-radius: 0.25em;box-sizing: border-box;margin-bottom: 0.5em;}#sk-container-id-3 div.sk-estimator:hover {background-color: #d4ebff;}#sk-container-id-3 div.sk-parallel-item::after {content: \"\";width: 100%;border-bottom: 1px solid gray;flex-grow: 1;}#sk-container-id-3 div.sk-label:hover label.sk-toggleable__label {background-color: #d4ebff;}#sk-container-id-3 div.sk-serial::before {content: \"\";position: absolute;border-left: 1px solid gray;box-sizing: border-box;top: 0;bottom: 0;left: 50%;z-index: 0;}#sk-container-id-3 div.sk-serial {display: flex;flex-direction: column;align-items: center;background-color: white;padding-right: 0.2em;padding-left: 0.2em;position: relative;}#sk-container-id-3 div.sk-item {position: relative;z-index: 1;}#sk-container-id-3 div.sk-parallel {display: flex;align-items: stretch;justify-content: center;background-color: white;position: relative;}#sk-container-id-3 div.sk-item::before, #sk-container-id-3 div.sk-parallel-item::before {content: \"\";position: absolute;border-left: 1px solid gray;box-sizing: border-box;top: 0;bottom: 0;left: 50%;z-index: -1;}#sk-container-id-3 div.sk-parallel-item {display: flex;flex-direction: column;z-index: 1;position: relative;background-color: white;}#sk-container-id-3 div.sk-parallel-item:first-child::after {align-self: flex-end;width: 50%;}#sk-container-id-3 div.sk-parallel-item:last-child::after {align-self: flex-start;width: 50%;}#sk-container-id-3 div.sk-parallel-item:only-child::after {width: 0;}#sk-container-id-3 div.sk-dashed-wrapped {border: 1px dashed gray;margin: 0 0.4em 0.5em 0.4em;box-sizing: border-box;padding-bottom: 0.4em;background-color: white;}#sk-container-id-3 div.sk-label label {font-family: monospace;font-weight: bold;display: inline-block;line-height: 1.2em;}#sk-container-id-3 div.sk-label-container {text-align: center;}#sk-container-id-3 div.sk-container {/* jupyter's `normalize.less` sets `[hidden] { display: none; }` but bootstrap.min.css set `[hidden] { display: none !important; }` so we also need the `!important` here to be able to override the default hidden behavior on the sphinx rendered scikit-learn.org. See: https://github.com/scikit-learn/scikit-learn/issues/21755 */display: inline-block !important;position: relative;}#sk-container-id-3 div.sk-text-repr-fallback {display: none;}</style><div id=\"sk-container-id-3\" class=\"sk-top-container\"><div class=\"sk-text-repr-fallback\"><pre>RandomForestClassifier(n_estimators=10)</pre><b>In a Jupyter environment, please rerun this cell to show the HTML representation or trust the notebook. <br />On GitHub, the HTML representation is unable to render, please try loading this page with nbviewer.org.</b></div><div class=\"sk-container\" hidden><div class=\"sk-item\"><div class=\"sk-estimator sk-toggleable\"><input class=\"sk-toggleable__control sk-hidden--visually\" id=\"sk-estimator-id-3\" type=\"checkbox\" checked><label for=\"sk-estimator-id-3\" class=\"sk-toggleable__label sk-toggleable__label-arrow\">RandomForestClassifier</label><div class=\"sk-toggleable__content\"><pre>RandomForestClassifier(n_estimators=10)</pre></div></div></div></div></div>"
      ],
      "text/plain": [
       "RandomForestClassifier(n_estimators=10)"
      ]
     },
     "execution_count": 15,
     "metadata": {},
     "output_type": "execute_result"
    }
   ],
   "source": [
    "model_rf = RandomForestClassifier(n_estimators=10,)\n",
    "model_rf.fit(x_train,y_train)"
   ]
  },
  {
   "cell_type": "code",
   "execution_count": 16,
   "metadata": {
    "id": "GbysgeGp7VnO",
    "outputId": "94cd2616-4337-4c13-c1f1-b3ec32611ded"
   },
   "outputs": [
    {
     "name": "stdout",
     "output_type": "stream",
     "text": [
      "Accuracy Train = 0.99\n",
      "Accuracy Test = 0.82\n",
      "F1 Score Train = 0.99\n",
      "F1 Score Test = 0.82\n"
     ]
    }
   ],
   "source": [
    "get_report(model_rf,x_train,y_train,x_test,y_test)"
   ]
  },
  {
   "cell_type": "markdown",
   "metadata": {
    "id": "YoAE3sgc7VnO"
   },
   "source": [
    "## Voting Classifier"
   ]
  },
  {
   "cell_type": "code",
   "execution_count": 17,
   "metadata": {
    "id": "ueCdMbYX7VnO"
   },
   "outputs": [],
   "source": [
    "model_voting = VotingClassifier(estimators=[\n",
    "    ('logistic',LogisticRegression()),\n",
    "    ('svm',SVC(probability=True)),\n",
    "    ('rf',RandomForestClassifier())\n",
    "], voting='soft',weights=[2,3,1])"
   ]
  },
  {
   "cell_type": "code",
   "execution_count": 18,
   "metadata": {
    "id": "eJhb17sJ7VnO",
    "outputId": "5d9a842a-0bd8-4e0a-aed7-b8a9da190dba"
   },
   "outputs": [
    {
     "data": {
      "text/html": [
       "<style>#sk-container-id-4 {color: black;}#sk-container-id-4 pre{padding: 0;}#sk-container-id-4 div.sk-toggleable {background-color: white;}#sk-container-id-4 label.sk-toggleable__label {cursor: pointer;display: block;width: 100%;margin-bottom: 0;padding: 0.3em;box-sizing: border-box;text-align: center;}#sk-container-id-4 label.sk-toggleable__label-arrow:before {content: \"▸\";float: left;margin-right: 0.25em;color: #696969;}#sk-container-id-4 label.sk-toggleable__label-arrow:hover:before {color: black;}#sk-container-id-4 div.sk-estimator:hover label.sk-toggleable__label-arrow:before {color: black;}#sk-container-id-4 div.sk-toggleable__content {max-height: 0;max-width: 0;overflow: hidden;text-align: left;background-color: #f0f8ff;}#sk-container-id-4 div.sk-toggleable__content pre {margin: 0.2em;color: black;border-radius: 0.25em;background-color: #f0f8ff;}#sk-container-id-4 input.sk-toggleable__control:checked~div.sk-toggleable__content {max-height: 200px;max-width: 100%;overflow: auto;}#sk-container-id-4 input.sk-toggleable__control:checked~label.sk-toggleable__label-arrow:before {content: \"▾\";}#sk-container-id-4 div.sk-estimator input.sk-toggleable__control:checked~label.sk-toggleable__label {background-color: #d4ebff;}#sk-container-id-4 div.sk-label input.sk-toggleable__control:checked~label.sk-toggleable__label {background-color: #d4ebff;}#sk-container-id-4 input.sk-hidden--visually {border: 0;clip: rect(1px 1px 1px 1px);clip: rect(1px, 1px, 1px, 1px);height: 1px;margin: -1px;overflow: hidden;padding: 0;position: absolute;width: 1px;}#sk-container-id-4 div.sk-estimator {font-family: monospace;background-color: #f0f8ff;border: 1px dotted black;border-radius: 0.25em;box-sizing: border-box;margin-bottom: 0.5em;}#sk-container-id-4 div.sk-estimator:hover {background-color: #d4ebff;}#sk-container-id-4 div.sk-parallel-item::after {content: \"\";width: 100%;border-bottom: 1px solid gray;flex-grow: 1;}#sk-container-id-4 div.sk-label:hover label.sk-toggleable__label {background-color: #d4ebff;}#sk-container-id-4 div.sk-serial::before {content: \"\";position: absolute;border-left: 1px solid gray;box-sizing: border-box;top: 0;bottom: 0;left: 50%;z-index: 0;}#sk-container-id-4 div.sk-serial {display: flex;flex-direction: column;align-items: center;background-color: white;padding-right: 0.2em;padding-left: 0.2em;position: relative;}#sk-container-id-4 div.sk-item {position: relative;z-index: 1;}#sk-container-id-4 div.sk-parallel {display: flex;align-items: stretch;justify-content: center;background-color: white;position: relative;}#sk-container-id-4 div.sk-item::before, #sk-container-id-4 div.sk-parallel-item::before {content: \"\";position: absolute;border-left: 1px solid gray;box-sizing: border-box;top: 0;bottom: 0;left: 50%;z-index: -1;}#sk-container-id-4 div.sk-parallel-item {display: flex;flex-direction: column;z-index: 1;position: relative;background-color: white;}#sk-container-id-4 div.sk-parallel-item:first-child::after {align-self: flex-end;width: 50%;}#sk-container-id-4 div.sk-parallel-item:last-child::after {align-self: flex-start;width: 50%;}#sk-container-id-4 div.sk-parallel-item:only-child::after {width: 0;}#sk-container-id-4 div.sk-dashed-wrapped {border: 1px dashed gray;margin: 0 0.4em 0.5em 0.4em;box-sizing: border-box;padding-bottom: 0.4em;background-color: white;}#sk-container-id-4 div.sk-label label {font-family: monospace;font-weight: bold;display: inline-block;line-height: 1.2em;}#sk-container-id-4 div.sk-label-container {text-align: center;}#sk-container-id-4 div.sk-container {/* jupyter's `normalize.less` sets `[hidden] { display: none; }` but bootstrap.min.css set `[hidden] { display: none !important; }` so we also need the `!important` here to be able to override the default hidden behavior on the sphinx rendered scikit-learn.org. See: https://github.com/scikit-learn/scikit-learn/issues/21755 */display: inline-block !important;position: relative;}#sk-container-id-4 div.sk-text-repr-fallback {display: none;}</style><div id=\"sk-container-id-4\" class=\"sk-top-container\"><div class=\"sk-text-repr-fallback\"><pre>VotingClassifier(estimators=[(&#x27;logistic&#x27;, LogisticRegression()),\n",
       "                             (&#x27;svm&#x27;, SVC(probability=True)),\n",
       "                             (&#x27;rf&#x27;, RandomForestClassifier())],\n",
       "                 voting=&#x27;soft&#x27;, weights=[2, 3, 1])</pre><b>In a Jupyter environment, please rerun this cell to show the HTML representation or trust the notebook. <br />On GitHub, the HTML representation is unable to render, please try loading this page with nbviewer.org.</b></div><div class=\"sk-container\" hidden><div class=\"sk-item sk-dashed-wrapped\"><div class=\"sk-label-container\"><div class=\"sk-label sk-toggleable\"><input class=\"sk-toggleable__control sk-hidden--visually\" id=\"sk-estimator-id-4\" type=\"checkbox\" ><label for=\"sk-estimator-id-4\" class=\"sk-toggleable__label sk-toggleable__label-arrow\">VotingClassifier</label><div class=\"sk-toggleable__content\"><pre>VotingClassifier(estimators=[(&#x27;logistic&#x27;, LogisticRegression()),\n",
       "                             (&#x27;svm&#x27;, SVC(probability=True)),\n",
       "                             (&#x27;rf&#x27;, RandomForestClassifier())],\n",
       "                 voting=&#x27;soft&#x27;, weights=[2, 3, 1])</pre></div></div></div><div class=\"sk-parallel\"><div class=\"sk-parallel-item\"><div class=\"sk-item\"><div class=\"sk-label-container\"><div class=\"sk-label sk-toggleable\"><label>logistic</label></div></div><div class=\"sk-serial\"><div class=\"sk-item\"><div class=\"sk-estimator sk-toggleable\"><input class=\"sk-toggleable__control sk-hidden--visually\" id=\"sk-estimator-id-5\" type=\"checkbox\" ><label for=\"sk-estimator-id-5\" class=\"sk-toggleable__label sk-toggleable__label-arrow\">LogisticRegression</label><div class=\"sk-toggleable__content\"><pre>LogisticRegression()</pre></div></div></div></div></div></div><div class=\"sk-parallel-item\"><div class=\"sk-item\"><div class=\"sk-label-container\"><div class=\"sk-label sk-toggleable\"><label>svm</label></div></div><div class=\"sk-serial\"><div class=\"sk-item\"><div class=\"sk-estimator sk-toggleable\"><input class=\"sk-toggleable__control sk-hidden--visually\" id=\"sk-estimator-id-6\" type=\"checkbox\" ><label for=\"sk-estimator-id-6\" class=\"sk-toggleable__label sk-toggleable__label-arrow\">SVC</label><div class=\"sk-toggleable__content\"><pre>SVC(probability=True)</pre></div></div></div></div></div></div><div class=\"sk-parallel-item\"><div class=\"sk-item\"><div class=\"sk-label-container\"><div class=\"sk-label sk-toggleable\"><label>rf</label></div></div><div class=\"sk-serial\"><div class=\"sk-item\"><div class=\"sk-estimator sk-toggleable\"><input class=\"sk-toggleable__control sk-hidden--visually\" id=\"sk-estimator-id-7\" type=\"checkbox\" ><label for=\"sk-estimator-id-7\" class=\"sk-toggleable__label sk-toggleable__label-arrow\">RandomForestClassifier</label><div class=\"sk-toggleable__content\"><pre>RandomForestClassifier()</pre></div></div></div></div></div></div></div></div></div></div>"
      ],
      "text/plain": [
       "VotingClassifier(estimators=[('logistic', LogisticRegression()),\n",
       "                             ('svm', SVC(probability=True)),\n",
       "                             ('rf', RandomForestClassifier())],\n",
       "                 voting='soft', weights=[2, 3, 1])"
      ]
     },
     "execution_count": 18,
     "metadata": {},
     "output_type": "execute_result"
    }
   ],
   "source": [
    "model_voting.fit(x_train,y_train)"
   ]
  },
  {
   "cell_type": "code",
   "execution_count": 19,
   "metadata": {
    "id": "-t3rbdDK7VnP",
    "outputId": "9a5ca85c-2289-4907-fd56-ad05011a042b"
   },
   "outputs": [
    {
     "name": "stdout",
     "output_type": "stream",
     "text": [
      "Accuracy Train = 0.97\n",
      "Accuracy Test = 0.86\n",
      "F1 Score Train = 0.97\n",
      "F1 Score Test = 0.86\n"
     ]
    }
   ],
   "source": [
    "get_report(model_voting,x_train,y_train,x_test,y_test)"
   ]
  },
  {
   "cell_type": "markdown",
   "metadata": {
    "id": "EybSgtE97VnQ"
   },
   "source": [
    "# 3. Parameter Tuning"
   ]
  },
  {
   "cell_type": "code",
   "execution_count": 20,
   "metadata": {
    "id": "loOvc6Az7VnQ"
   },
   "outputs": [],
   "source": [
    "from sklearn.model_selection import GridSearchCV"
   ]
  },
  {
   "cell_type": "code",
   "execution_count": 21,
   "metadata": {
    "id": "IA4VaeYH7VnQ"
   },
   "outputs": [],
   "source": [
    "model_grid = GridSearchCV(model_voting,\n",
    "             param_grid={\n",
    "               'svm__C':[3,5,7,10],\n",
    "               'svm__gamma':[0.1,0.3,0.5],\n",
    "               'rf__n_estimators':[5,10,20],\n",
    "               'rf__max_depth':[3,5,7],\n",
    "               'voting':['soft']\n",
    "             },scoring='accuracy',cv=3,n_jobs=1,verbose=2)"
   ]
  },
  {
   "cell_type": "code",
   "execution_count": 22,
   "metadata": {
    "id": "tTiMUYjl7VnQ",
    "scrolled": true
   },
   "outputs": [
    {
     "name": "stdout",
     "output_type": "stream",
     "text": [
      "Fitting 3 folds for each of 108 candidates, totalling 324 fits\n",
      "[CV] END rf__max_depth=3, rf__n_estimators=5, svm__C=3, svm__gamma=0.1, voting=soft; total time=   0.0s\n",
      "[CV] END rf__max_depth=3, rf__n_estimators=5, svm__C=3, svm__gamma=0.1, voting=soft; total time=   0.0s\n",
      "[CV] END rf__max_depth=3, rf__n_estimators=5, svm__C=3, svm__gamma=0.1, voting=soft; total time=   0.0s\n",
      "[CV] END rf__max_depth=3, rf__n_estimators=5, svm__C=3, svm__gamma=0.3, voting=soft; total time=   0.0s\n",
      "[CV] END rf__max_depth=3, rf__n_estimators=5, svm__C=3, svm__gamma=0.3, voting=soft; total time=   0.0s\n",
      "[CV] END rf__max_depth=3, rf__n_estimators=5, svm__C=3, svm__gamma=0.3, voting=soft; total time=   0.0s\n",
      "[CV] END rf__max_depth=3, rf__n_estimators=5, svm__C=3, svm__gamma=0.5, voting=soft; total time=   0.0s\n",
      "[CV] END rf__max_depth=3, rf__n_estimators=5, svm__C=3, svm__gamma=0.5, voting=soft; total time=   0.0s\n",
      "[CV] END rf__max_depth=3, rf__n_estimators=5, svm__C=3, svm__gamma=0.5, voting=soft; total time=   0.0s\n",
      "[CV] END rf__max_depth=3, rf__n_estimators=5, svm__C=5, svm__gamma=0.1, voting=soft; total time=   0.0s\n",
      "[CV] END rf__max_depth=3, rf__n_estimators=5, svm__C=5, svm__gamma=0.1, voting=soft; total time=   0.0s\n",
      "[CV] END rf__max_depth=3, rf__n_estimators=5, svm__C=5, svm__gamma=0.1, voting=soft; total time=   0.0s\n",
      "[CV] END rf__max_depth=3, rf__n_estimators=5, svm__C=5, svm__gamma=0.3, voting=soft; total time=   0.0s\n",
      "[CV] END rf__max_depth=3, rf__n_estimators=5, svm__C=5, svm__gamma=0.3, voting=soft; total time=   0.0s\n",
      "[CV] END rf__max_depth=3, rf__n_estimators=5, svm__C=5, svm__gamma=0.3, voting=soft; total time=   0.0s\n",
      "[CV] END rf__max_depth=3, rf__n_estimators=5, svm__C=5, svm__gamma=0.5, voting=soft; total time=   0.0s\n",
      "[CV] END rf__max_depth=3, rf__n_estimators=5, svm__C=5, svm__gamma=0.5, voting=soft; total time=   0.0s\n",
      "[CV] END rf__max_depth=3, rf__n_estimators=5, svm__C=5, svm__gamma=0.5, voting=soft; total time=   0.0s\n",
      "[CV] END rf__max_depth=3, rf__n_estimators=5, svm__C=7, svm__gamma=0.1, voting=soft; total time=   0.0s\n",
      "[CV] END rf__max_depth=3, rf__n_estimators=5, svm__C=7, svm__gamma=0.1, voting=soft; total time=   0.0s\n",
      "[CV] END rf__max_depth=3, rf__n_estimators=5, svm__C=7, svm__gamma=0.1, voting=soft; total time=   0.0s\n",
      "[CV] END rf__max_depth=3, rf__n_estimators=5, svm__C=7, svm__gamma=0.3, voting=soft; total time=   0.0s\n",
      "[CV] END rf__max_depth=3, rf__n_estimators=5, svm__C=7, svm__gamma=0.3, voting=soft; total time=   0.0s\n",
      "[CV] END rf__max_depth=3, rf__n_estimators=5, svm__C=7, svm__gamma=0.3, voting=soft; total time=   0.0s\n",
      "[CV] END rf__max_depth=3, rf__n_estimators=5, svm__C=7, svm__gamma=0.5, voting=soft; total time=   0.0s\n",
      "[CV] END rf__max_depth=3, rf__n_estimators=5, svm__C=7, svm__gamma=0.5, voting=soft; total time=   0.0s\n",
      "[CV] END rf__max_depth=3, rf__n_estimators=5, svm__C=7, svm__gamma=0.5, voting=soft; total time=   0.1s\n",
      "[CV] END rf__max_depth=3, rf__n_estimators=5, svm__C=10, svm__gamma=0.1, voting=soft; total time=   0.0s\n",
      "[CV] END rf__max_depth=3, rf__n_estimators=5, svm__C=10, svm__gamma=0.1, voting=soft; total time=   0.0s\n",
      "[CV] END rf__max_depth=3, rf__n_estimators=5, svm__C=10, svm__gamma=0.1, voting=soft; total time=   0.0s\n",
      "[CV] END rf__max_depth=3, rf__n_estimators=5, svm__C=10, svm__gamma=0.3, voting=soft; total time=   0.0s\n",
      "[CV] END rf__max_depth=3, rf__n_estimators=5, svm__C=10, svm__gamma=0.3, voting=soft; total time=   0.0s\n",
      "[CV] END rf__max_depth=3, rf__n_estimators=5, svm__C=10, svm__gamma=0.3, voting=soft; total time=   0.0s\n",
      "[CV] END rf__max_depth=3, rf__n_estimators=5, svm__C=10, svm__gamma=0.5, voting=soft; total time=   0.0s\n",
      "[CV] END rf__max_depth=3, rf__n_estimators=5, svm__C=10, svm__gamma=0.5, voting=soft; total time=   0.0s\n",
      "[CV] END rf__max_depth=3, rf__n_estimators=5, svm__C=10, svm__gamma=0.5, voting=soft; total time=   0.0s\n",
      "[CV] END rf__max_depth=3, rf__n_estimators=10, svm__C=3, svm__gamma=0.1, voting=soft; total time=   0.1s\n",
      "[CV] END rf__max_depth=3, rf__n_estimators=10, svm__C=3, svm__gamma=0.1, voting=soft; total time=   0.1s\n",
      "[CV] END rf__max_depth=3, rf__n_estimators=10, svm__C=3, svm__gamma=0.1, voting=soft; total time=   0.1s\n",
      "[CV] END rf__max_depth=3, rf__n_estimators=10, svm__C=3, svm__gamma=0.3, voting=soft; total time=   0.1s\n",
      "[CV] END rf__max_depth=3, rf__n_estimators=10, svm__C=3, svm__gamma=0.3, voting=soft; total time=   0.1s\n",
      "[CV] END rf__max_depth=3, rf__n_estimators=10, svm__C=3, svm__gamma=0.3, voting=soft; total time=   0.1s\n",
      "[CV] END rf__max_depth=3, rf__n_estimators=10, svm__C=3, svm__gamma=0.5, voting=soft; total time=   0.1s\n",
      "[CV] END rf__max_depth=3, rf__n_estimators=10, svm__C=3, svm__gamma=0.5, voting=soft; total time=   0.1s\n",
      "[CV] END rf__max_depth=3, rf__n_estimators=10, svm__C=3, svm__gamma=0.5, voting=soft; total time=   0.2s\n",
      "[CV] END rf__max_depth=3, rf__n_estimators=10, svm__C=5, svm__gamma=0.1, voting=soft; total time=   0.1s\n",
      "[CV] END rf__max_depth=3, rf__n_estimators=10, svm__C=5, svm__gamma=0.1, voting=soft; total time=   0.1s\n",
      "[CV] END rf__max_depth=3, rf__n_estimators=10, svm__C=5, svm__gamma=0.1, voting=soft; total time=   0.0s\n",
      "[CV] END rf__max_depth=3, rf__n_estimators=10, svm__C=5, svm__gamma=0.3, voting=soft; total time=   0.1s\n",
      "[CV] END rf__max_depth=3, rf__n_estimators=10, svm__C=5, svm__gamma=0.3, voting=soft; total time=   0.1s\n",
      "[CV] END rf__max_depth=3, rf__n_estimators=10, svm__C=5, svm__gamma=0.3, voting=soft; total time=   0.1s\n",
      "[CV] END rf__max_depth=3, rf__n_estimators=10, svm__C=5, svm__gamma=0.5, voting=soft; total time=   0.1s\n",
      "[CV] END rf__max_depth=3, rf__n_estimators=10, svm__C=5, svm__gamma=0.5, voting=soft; total time=   0.1s\n",
      "[CV] END rf__max_depth=3, rf__n_estimators=10, svm__C=5, svm__gamma=0.5, voting=soft; total time=   0.0s\n",
      "[CV] END rf__max_depth=3, rf__n_estimators=10, svm__C=7, svm__gamma=0.1, voting=soft; total time=   0.0s\n",
      "[CV] END rf__max_depth=3, rf__n_estimators=10, svm__C=7, svm__gamma=0.1, voting=soft; total time=   0.0s\n",
      "[CV] END rf__max_depth=3, rf__n_estimators=10, svm__C=7, svm__gamma=0.1, voting=soft; total time=   0.1s\n",
      "[CV] END rf__max_depth=3, rf__n_estimators=10, svm__C=7, svm__gamma=0.3, voting=soft; total time=   0.0s\n",
      "[CV] END rf__max_depth=3, rf__n_estimators=10, svm__C=7, svm__gamma=0.3, voting=soft; total time=   0.0s\n",
      "[CV] END rf__max_depth=3, rf__n_estimators=10, svm__C=7, svm__gamma=0.3, voting=soft; total time=   0.1s\n",
      "[CV] END rf__max_depth=3, rf__n_estimators=10, svm__C=7, svm__gamma=0.5, voting=soft; total time=   0.1s\n",
      "[CV] END rf__max_depth=3, rf__n_estimators=10, svm__C=7, svm__gamma=0.5, voting=soft; total time=   0.1s\n",
      "[CV] END rf__max_depth=3, rf__n_estimators=10, svm__C=7, svm__gamma=0.5, voting=soft; total time=   0.0s\n",
      "[CV] END rf__max_depth=3, rf__n_estimators=10, svm__C=10, svm__gamma=0.1, voting=soft; total time=   0.0s\n",
      "[CV] END rf__max_depth=3, rf__n_estimators=10, svm__C=10, svm__gamma=0.1, voting=soft; total time=   0.1s\n",
      "[CV] END rf__max_depth=3, rf__n_estimators=10, svm__C=10, svm__gamma=0.1, voting=soft; total time=   0.0s\n",
      "[CV] END rf__max_depth=3, rf__n_estimators=10, svm__C=10, svm__gamma=0.3, voting=soft; total time=   0.0s\n",
      "[CV] END rf__max_depth=3, rf__n_estimators=10, svm__C=10, svm__gamma=0.3, voting=soft; total time=   0.1s\n",
      "[CV] END rf__max_depth=3, rf__n_estimators=10, svm__C=10, svm__gamma=0.3, voting=soft; total time=   0.0s\n",
      "[CV] END rf__max_depth=3, rf__n_estimators=10, svm__C=10, svm__gamma=0.5, voting=soft; total time=   0.0s\n",
      "[CV] END rf__max_depth=3, rf__n_estimators=10, svm__C=10, svm__gamma=0.5, voting=soft; total time=   0.1s\n",
      "[CV] END rf__max_depth=3, rf__n_estimators=10, svm__C=10, svm__gamma=0.5, voting=soft; total time=   0.0s\n",
      "[CV] END rf__max_depth=3, rf__n_estimators=20, svm__C=3, svm__gamma=0.1, voting=soft; total time=   0.1s\n",
      "[CV] END rf__max_depth=3, rf__n_estimators=20, svm__C=3, svm__gamma=0.1, voting=soft; total time=   0.1s\n",
      "[CV] END rf__max_depth=3, rf__n_estimators=20, svm__C=3, svm__gamma=0.1, voting=soft; total time=   0.1s\n",
      "[CV] END rf__max_depth=3, rf__n_estimators=20, svm__C=3, svm__gamma=0.3, voting=soft; total time=   0.1s\n",
      "[CV] END rf__max_depth=3, rf__n_estimators=20, svm__C=3, svm__gamma=0.3, voting=soft; total time=   0.1s\n",
      "[CV] END rf__max_depth=3, rf__n_estimators=20, svm__C=3, svm__gamma=0.3, voting=soft; total time=   0.2s\n"
     ]
    },
    {
     "name": "stdout",
     "output_type": "stream",
     "text": [
      "[CV] END rf__max_depth=3, rf__n_estimators=20, svm__C=3, svm__gamma=0.5, voting=soft; total time=   0.2s\n",
      "[CV] END rf__max_depth=3, rf__n_estimators=20, svm__C=3, svm__gamma=0.5, voting=soft; total time=   0.2s\n",
      "[CV] END rf__max_depth=3, rf__n_estimators=20, svm__C=3, svm__gamma=0.5, voting=soft; total time=   0.2s\n",
      "[CV] END rf__max_depth=3, rf__n_estimators=20, svm__C=5, svm__gamma=0.1, voting=soft; total time=   0.1s\n",
      "[CV] END rf__max_depth=3, rf__n_estimators=20, svm__C=5, svm__gamma=0.1, voting=soft; total time=   0.1s\n",
      "[CV] END rf__max_depth=3, rf__n_estimators=20, svm__C=5, svm__gamma=0.1, voting=soft; total time=   0.1s\n",
      "[CV] END rf__max_depth=3, rf__n_estimators=20, svm__C=5, svm__gamma=0.3, voting=soft; total time=   0.1s\n",
      "[CV] END rf__max_depth=3, rf__n_estimators=20, svm__C=5, svm__gamma=0.3, voting=soft; total time=   0.1s\n",
      "[CV] END rf__max_depth=3, rf__n_estimators=20, svm__C=5, svm__gamma=0.3, voting=soft; total time=   0.1s\n",
      "[CV] END rf__max_depth=3, rf__n_estimators=20, svm__C=5, svm__gamma=0.5, voting=soft; total time=   0.1s\n",
      "[CV] END rf__max_depth=3, rf__n_estimators=20, svm__C=5, svm__gamma=0.5, voting=soft; total time=   0.1s\n",
      "[CV] END rf__max_depth=3, rf__n_estimators=20, svm__C=5, svm__gamma=0.5, voting=soft; total time=   0.1s\n",
      "[CV] END rf__max_depth=3, rf__n_estimators=20, svm__C=7, svm__gamma=0.1, voting=soft; total time=   0.1s\n",
      "[CV] END rf__max_depth=3, rf__n_estimators=20, svm__C=7, svm__gamma=0.1, voting=soft; total time=   0.1s\n",
      "[CV] END rf__max_depth=3, rf__n_estimators=20, svm__C=7, svm__gamma=0.1, voting=soft; total time=   0.1s\n",
      "[CV] END rf__max_depth=3, rf__n_estimators=20, svm__C=7, svm__gamma=0.3, voting=soft; total time=   0.1s\n",
      "[CV] END rf__max_depth=3, rf__n_estimators=20, svm__C=7, svm__gamma=0.3, voting=soft; total time=   0.1s\n",
      "[CV] END rf__max_depth=3, rf__n_estimators=20, svm__C=7, svm__gamma=0.3, voting=soft; total time=   0.1s\n",
      "[CV] END rf__max_depth=3, rf__n_estimators=20, svm__C=7, svm__gamma=0.5, voting=soft; total time=   0.1s\n",
      "[CV] END rf__max_depth=3, rf__n_estimators=20, svm__C=7, svm__gamma=0.5, voting=soft; total time=   0.1s\n",
      "[CV] END rf__max_depth=3, rf__n_estimators=20, svm__C=7, svm__gamma=0.5, voting=soft; total time=   0.1s\n",
      "[CV] END rf__max_depth=3, rf__n_estimators=20, svm__C=10, svm__gamma=0.1, voting=soft; total time=   0.1s\n",
      "[CV] END rf__max_depth=3, rf__n_estimators=20, svm__C=10, svm__gamma=0.1, voting=soft; total time=   0.1s\n",
      "[CV] END rf__max_depth=3, rf__n_estimators=20, svm__C=10, svm__gamma=0.1, voting=soft; total time=   0.1s\n",
      "[CV] END rf__max_depth=3, rf__n_estimators=20, svm__C=10, svm__gamma=0.3, voting=soft; total time=   0.1s\n",
      "[CV] END rf__max_depth=3, rf__n_estimators=20, svm__C=10, svm__gamma=0.3, voting=soft; total time=   0.1s\n",
      "[CV] END rf__max_depth=3, rf__n_estimators=20, svm__C=10, svm__gamma=0.3, voting=soft; total time=   0.1s\n",
      "[CV] END rf__max_depth=3, rf__n_estimators=20, svm__C=10, svm__gamma=0.5, voting=soft; total time=   0.1s\n",
      "[CV] END rf__max_depth=3, rf__n_estimators=20, svm__C=10, svm__gamma=0.5, voting=soft; total time=   0.1s\n",
      "[CV] END rf__max_depth=3, rf__n_estimators=20, svm__C=10, svm__gamma=0.5, voting=soft; total time=   0.1s\n",
      "[CV] END rf__max_depth=5, rf__n_estimators=5, svm__C=3, svm__gamma=0.1, voting=soft; total time=   0.0s\n",
      "[CV] END rf__max_depth=5, rf__n_estimators=5, svm__C=3, svm__gamma=0.1, voting=soft; total time=   0.0s\n",
      "[CV] END rf__max_depth=5, rf__n_estimators=5, svm__C=3, svm__gamma=0.1, voting=soft; total time=   0.0s\n",
      "[CV] END rf__max_depth=5, rf__n_estimators=5, svm__C=3, svm__gamma=0.3, voting=soft; total time=   0.0s\n",
      "[CV] END rf__max_depth=5, rf__n_estimators=5, svm__C=3, svm__gamma=0.3, voting=soft; total time=   0.0s\n",
      "[CV] END rf__max_depth=5, rf__n_estimators=5, svm__C=3, svm__gamma=0.3, voting=soft; total time=   0.0s\n",
      "[CV] END rf__max_depth=5, rf__n_estimators=5, svm__C=3, svm__gamma=0.5, voting=soft; total time=   0.0s\n",
      "[CV] END rf__max_depth=5, rf__n_estimators=5, svm__C=3, svm__gamma=0.5, voting=soft; total time=   0.0s\n",
      "[CV] END rf__max_depth=5, rf__n_estimators=5, svm__C=3, svm__gamma=0.5, voting=soft; total time=   0.0s\n",
      "[CV] END rf__max_depth=5, rf__n_estimators=5, svm__C=5, svm__gamma=0.1, voting=soft; total time=   0.0s\n",
      "[CV] END rf__max_depth=5, rf__n_estimators=5, svm__C=5, svm__gamma=0.1, voting=soft; total time=   0.0s\n",
      "[CV] END rf__max_depth=5, rf__n_estimators=5, svm__C=5, svm__gamma=0.1, voting=soft; total time=   0.0s\n",
      "[CV] END rf__max_depth=5, rf__n_estimators=5, svm__C=5, svm__gamma=0.3, voting=soft; total time=   0.0s\n",
      "[CV] END rf__max_depth=5, rf__n_estimators=5, svm__C=5, svm__gamma=0.3, voting=soft; total time=   0.0s\n",
      "[CV] END rf__max_depth=5, rf__n_estimators=5, svm__C=5, svm__gamma=0.3, voting=soft; total time=   0.0s\n",
      "[CV] END rf__max_depth=5, rf__n_estimators=5, svm__C=5, svm__gamma=0.5, voting=soft; total time=   0.1s\n",
      "[CV] END rf__max_depth=5, rf__n_estimators=5, svm__C=5, svm__gamma=0.5, voting=soft; total time=   0.0s\n",
      "[CV] END rf__max_depth=5, rf__n_estimators=5, svm__C=5, svm__gamma=0.5, voting=soft; total time=   0.0s\n",
      "[CV] END rf__max_depth=5, rf__n_estimators=5, svm__C=7, svm__gamma=0.1, voting=soft; total time=   0.0s\n",
      "[CV] END rf__max_depth=5, rf__n_estimators=5, svm__C=7, svm__gamma=0.1, voting=soft; total time=   0.1s\n",
      "[CV] END rf__max_depth=5, rf__n_estimators=5, svm__C=7, svm__gamma=0.1, voting=soft; total time=   0.1s\n",
      "[CV] END rf__max_depth=5, rf__n_estimators=5, svm__C=7, svm__gamma=0.3, voting=soft; total time=   0.1s\n",
      "[CV] END rf__max_depth=5, rf__n_estimators=5, svm__C=7, svm__gamma=0.3, voting=soft; total time=   0.1s\n",
      "[CV] END rf__max_depth=5, rf__n_estimators=5, svm__C=7, svm__gamma=0.3, voting=soft; total time=   0.1s\n",
      "[CV] END rf__max_depth=5, rf__n_estimators=5, svm__C=7, svm__gamma=0.5, voting=soft; total time=   0.0s\n",
      "[CV] END rf__max_depth=5, rf__n_estimators=5, svm__C=7, svm__gamma=0.5, voting=soft; total time=   0.0s\n",
      "[CV] END rf__max_depth=5, rf__n_estimators=5, svm__C=7, svm__gamma=0.5, voting=soft; total time=   0.1s\n",
      "[CV] END rf__max_depth=5, rf__n_estimators=5, svm__C=10, svm__gamma=0.1, voting=soft; total time=   0.0s\n",
      "[CV] END rf__max_depth=5, rf__n_estimators=5, svm__C=10, svm__gamma=0.1, voting=soft; total time=   0.1s\n",
      "[CV] END rf__max_depth=5, rf__n_estimators=5, svm__C=10, svm__gamma=0.1, voting=soft; total time=   0.1s\n",
      "[CV] END rf__max_depth=5, rf__n_estimators=5, svm__C=10, svm__gamma=0.3, voting=soft; total time=   0.1s\n",
      "[CV] END rf__max_depth=5, rf__n_estimators=5, svm__C=10, svm__gamma=0.3, voting=soft; total time=   0.0s\n",
      "[CV] END rf__max_depth=5, rf__n_estimators=5, svm__C=10, svm__gamma=0.3, voting=soft; total time=   0.1s\n",
      "[CV] END rf__max_depth=5, rf__n_estimators=5, svm__C=10, svm__gamma=0.5, voting=soft; total time=   0.1s\n",
      "[CV] END rf__max_depth=5, rf__n_estimators=5, svm__C=10, svm__gamma=0.5, voting=soft; total time=   0.0s\n",
      "[CV] END rf__max_depth=5, rf__n_estimators=5, svm__C=10, svm__gamma=0.5, voting=soft; total time=   0.1s\n",
      "[CV] END rf__max_depth=5, rf__n_estimators=10, svm__C=3, svm__gamma=0.1, voting=soft; total time=   0.1s\n",
      "[CV] END rf__max_depth=5, rf__n_estimators=10, svm__C=3, svm__gamma=0.1, voting=soft; total time=   0.1s\n",
      "[CV] END rf__max_depth=5, rf__n_estimators=10, svm__C=3, svm__gamma=0.1, voting=soft; total time=   0.1s\n",
      "[CV] END rf__max_depth=5, rf__n_estimators=10, svm__C=3, svm__gamma=0.3, voting=soft; total time=   0.1s\n",
      "[CV] END rf__max_depth=5, rf__n_estimators=10, svm__C=3, svm__gamma=0.3, voting=soft; total time=   0.1s\n",
      "[CV] END rf__max_depth=5, rf__n_estimators=10, svm__C=3, svm__gamma=0.3, voting=soft; total time=   0.1s\n",
      "[CV] END rf__max_depth=5, rf__n_estimators=10, svm__C=3, svm__gamma=0.5, voting=soft; total time=   0.1s\n",
      "[CV] END rf__max_depth=5, rf__n_estimators=10, svm__C=3, svm__gamma=0.5, voting=soft; total time=   0.1s\n",
      "[CV] END rf__max_depth=5, rf__n_estimators=10, svm__C=3, svm__gamma=0.5, voting=soft; total time=   0.1s\n",
      "[CV] END rf__max_depth=5, rf__n_estimators=10, svm__C=5, svm__gamma=0.1, voting=soft; total time=   0.1s\n",
      "[CV] END rf__max_depth=5, rf__n_estimators=10, svm__C=5, svm__gamma=0.1, voting=soft; total time=   0.1s\n",
      "[CV] END rf__max_depth=5, rf__n_estimators=10, svm__C=5, svm__gamma=0.1, voting=soft; total time=   0.0s\n",
      "[CV] END rf__max_depth=5, rf__n_estimators=10, svm__C=5, svm__gamma=0.3, voting=soft; total time=   0.0s\n"
     ]
    },
    {
     "name": "stdout",
     "output_type": "stream",
     "text": [
      "[CV] END rf__max_depth=5, rf__n_estimators=10, svm__C=5, svm__gamma=0.3, voting=soft; total time=   0.0s\n",
      "[CV] END rf__max_depth=5, rf__n_estimators=10, svm__C=5, svm__gamma=0.3, voting=soft; total time=   0.1s\n",
      "[CV] END rf__max_depth=5, rf__n_estimators=10, svm__C=5, svm__gamma=0.5, voting=soft; total time=   0.1s\n",
      "[CV] END rf__max_depth=5, rf__n_estimators=10, svm__C=5, svm__gamma=0.5, voting=soft; total time=   0.1s\n",
      "[CV] END rf__max_depth=5, rf__n_estimators=10, svm__C=5, svm__gamma=0.5, voting=soft; total time=   0.1s\n",
      "[CV] END rf__max_depth=5, rf__n_estimators=10, svm__C=7, svm__gamma=0.1, voting=soft; total time=   0.1s\n",
      "[CV] END rf__max_depth=5, rf__n_estimators=10, svm__C=7, svm__gamma=0.1, voting=soft; total time=   0.1s\n",
      "[CV] END rf__max_depth=5, rf__n_estimators=10, svm__C=7, svm__gamma=0.1, voting=soft; total time=   0.0s\n",
      "[CV] END rf__max_depth=5, rf__n_estimators=10, svm__C=7, svm__gamma=0.3, voting=soft; total time=   0.0s\n",
      "[CV] END rf__max_depth=5, rf__n_estimators=10, svm__C=7, svm__gamma=0.3, voting=soft; total time=   0.1s\n",
      "[CV] END rf__max_depth=5, rf__n_estimators=10, svm__C=7, svm__gamma=0.3, voting=soft; total time=   0.0s\n",
      "[CV] END rf__max_depth=5, rf__n_estimators=10, svm__C=7, svm__gamma=0.5, voting=soft; total time=   0.0s\n",
      "[CV] END rf__max_depth=5, rf__n_estimators=10, svm__C=7, svm__gamma=0.5, voting=soft; total time=   0.0s\n",
      "[CV] END rf__max_depth=5, rf__n_estimators=10, svm__C=7, svm__gamma=0.5, voting=soft; total time=   0.0s\n",
      "[CV] END rf__max_depth=5, rf__n_estimators=10, svm__C=10, svm__gamma=0.1, voting=soft; total time=   0.0s\n",
      "[CV] END rf__max_depth=5, rf__n_estimators=10, svm__C=10, svm__gamma=0.1, voting=soft; total time=   0.0s\n",
      "[CV] END rf__max_depth=5, rf__n_estimators=10, svm__C=10, svm__gamma=0.1, voting=soft; total time=   0.1s\n",
      "[CV] END rf__max_depth=5, rf__n_estimators=10, svm__C=10, svm__gamma=0.3, voting=soft; total time=   0.0s\n",
      "[CV] END rf__max_depth=5, rf__n_estimators=10, svm__C=10, svm__gamma=0.3, voting=soft; total time=   0.1s\n",
      "[CV] END rf__max_depth=5, rf__n_estimators=10, svm__C=10, svm__gamma=0.3, voting=soft; total time=   0.1s\n",
      "[CV] END rf__max_depth=5, rf__n_estimators=10, svm__C=10, svm__gamma=0.5, voting=soft; total time=   0.1s\n",
      "[CV] END rf__max_depth=5, rf__n_estimators=10, svm__C=10, svm__gamma=0.5, voting=soft; total time=   0.0s\n",
      "[CV] END rf__max_depth=5, rf__n_estimators=10, svm__C=10, svm__gamma=0.5, voting=soft; total time=   0.0s\n",
      "[CV] END rf__max_depth=5, rf__n_estimators=20, svm__C=3, svm__gamma=0.1, voting=soft; total time=   0.1s\n",
      "[CV] END rf__max_depth=5, rf__n_estimators=20, svm__C=3, svm__gamma=0.1, voting=soft; total time=   0.1s\n",
      "[CV] END rf__max_depth=5, rf__n_estimators=20, svm__C=3, svm__gamma=0.1, voting=soft; total time=   0.1s\n",
      "[CV] END rf__max_depth=5, rf__n_estimators=20, svm__C=3, svm__gamma=0.3, voting=soft; total time=   0.2s\n",
      "[CV] END rf__max_depth=5, rf__n_estimators=20, svm__C=3, svm__gamma=0.3, voting=soft; total time=   0.2s\n",
      "[CV] END rf__max_depth=5, rf__n_estimators=20, svm__C=3, svm__gamma=0.3, voting=soft; total time=   0.2s\n",
      "[CV] END rf__max_depth=5, rf__n_estimators=20, svm__C=3, svm__gamma=0.5, voting=soft; total time=   0.1s\n",
      "[CV] END rf__max_depth=5, rf__n_estimators=20, svm__C=3, svm__gamma=0.5, voting=soft; total time=   0.3s\n",
      "[CV] END rf__max_depth=5, rf__n_estimators=20, svm__C=3, svm__gamma=0.5, voting=soft; total time=   0.1s\n",
      "[CV] END rf__max_depth=5, rf__n_estimators=20, svm__C=5, svm__gamma=0.1, voting=soft; total time=   0.2s\n",
      "[CV] END rf__max_depth=5, rf__n_estimators=20, svm__C=5, svm__gamma=0.1, voting=soft; total time=   0.2s\n",
      "[CV] END rf__max_depth=5, rf__n_estimators=20, svm__C=5, svm__gamma=0.1, voting=soft; total time=   0.2s\n",
      "[CV] END rf__max_depth=5, rf__n_estimators=20, svm__C=5, svm__gamma=0.3, voting=soft; total time=   0.1s\n",
      "[CV] END rf__max_depth=5, rf__n_estimators=20, svm__C=5, svm__gamma=0.3, voting=soft; total time=   0.3s\n",
      "[CV] END rf__max_depth=5, rf__n_estimators=20, svm__C=5, svm__gamma=0.3, voting=soft; total time=   0.2s\n",
      "[CV] END rf__max_depth=5, rf__n_estimators=20, svm__C=5, svm__gamma=0.5, voting=soft; total time=   0.2s\n",
      "[CV] END rf__max_depth=5, rf__n_estimators=20, svm__C=5, svm__gamma=0.5, voting=soft; total time=   0.1s\n",
      "[CV] END rf__max_depth=5, rf__n_estimators=20, svm__C=5, svm__gamma=0.5, voting=soft; total time=   0.1s\n",
      "[CV] END rf__max_depth=5, rf__n_estimators=20, svm__C=7, svm__gamma=0.1, voting=soft; total time=   0.2s\n",
      "[CV] END rf__max_depth=5, rf__n_estimators=20, svm__C=7, svm__gamma=0.1, voting=soft; total time=   0.2s\n",
      "[CV] END rf__max_depth=5, rf__n_estimators=20, svm__C=7, svm__gamma=0.1, voting=soft; total time=   0.1s\n",
      "[CV] END rf__max_depth=5, rf__n_estimators=20, svm__C=7, svm__gamma=0.3, voting=soft; total time=   0.2s\n",
      "[CV] END rf__max_depth=5, rf__n_estimators=20, svm__C=7, svm__gamma=0.3, voting=soft; total time=   0.3s\n",
      "[CV] END rf__max_depth=5, rf__n_estimators=20, svm__C=7, svm__gamma=0.3, voting=soft; total time=   0.3s\n",
      "[CV] END rf__max_depth=5, rf__n_estimators=20, svm__C=7, svm__gamma=0.5, voting=soft; total time=   0.2s\n",
      "[CV] END rf__max_depth=5, rf__n_estimators=20, svm__C=7, svm__gamma=0.5, voting=soft; total time=   0.2s\n",
      "[CV] END rf__max_depth=5, rf__n_estimators=20, svm__C=7, svm__gamma=0.5, voting=soft; total time=   0.3s\n",
      "[CV] END rf__max_depth=5, rf__n_estimators=20, svm__C=10, svm__gamma=0.1, voting=soft; total time=   0.2s\n",
      "[CV] END rf__max_depth=5, rf__n_estimators=20, svm__C=10, svm__gamma=0.1, voting=soft; total time=   0.2s\n",
      "[CV] END rf__max_depth=5, rf__n_estimators=20, svm__C=10, svm__gamma=0.1, voting=soft; total time=   0.2s\n",
      "[CV] END rf__max_depth=5, rf__n_estimators=20, svm__C=10, svm__gamma=0.3, voting=soft; total time=   0.3s\n",
      "[CV] END rf__max_depth=5, rf__n_estimators=20, svm__C=10, svm__gamma=0.3, voting=soft; total time=   0.3s\n",
      "[CV] END rf__max_depth=5, rf__n_estimators=20, svm__C=10, svm__gamma=0.3, voting=soft; total time=   0.3s\n",
      "[CV] END rf__max_depth=5, rf__n_estimators=20, svm__C=10, svm__gamma=0.5, voting=soft; total time=   0.3s\n",
      "[CV] END rf__max_depth=5, rf__n_estimators=20, svm__C=10, svm__gamma=0.5, voting=soft; total time=   0.3s\n",
      "[CV] END rf__max_depth=5, rf__n_estimators=20, svm__C=10, svm__gamma=0.5, voting=soft; total time=   0.3s\n",
      "[CV] END rf__max_depth=7, rf__n_estimators=5, svm__C=3, svm__gamma=0.1, voting=soft; total time=   0.1s\n",
      "[CV] END rf__max_depth=7, rf__n_estimators=5, svm__C=3, svm__gamma=0.1, voting=soft; total time=   0.0s\n",
      "[CV] END rf__max_depth=7, rf__n_estimators=5, svm__C=3, svm__gamma=0.1, voting=soft; total time=   0.1s\n",
      "[CV] END rf__max_depth=7, rf__n_estimators=5, svm__C=3, svm__gamma=0.3, voting=soft; total time=   0.1s\n",
      "[CV] END rf__max_depth=7, rf__n_estimators=5, svm__C=3, svm__gamma=0.3, voting=soft; total time=   0.0s\n",
      "[CV] END rf__max_depth=7, rf__n_estimators=5, svm__C=3, svm__gamma=0.3, voting=soft; total time=   0.0s\n",
      "[CV] END rf__max_depth=7, rf__n_estimators=5, svm__C=3, svm__gamma=0.5, voting=soft; total time=   0.0s\n",
      "[CV] END rf__max_depth=7, rf__n_estimators=5, svm__C=3, svm__gamma=0.5, voting=soft; total time=   0.0s\n",
      "[CV] END rf__max_depth=7, rf__n_estimators=5, svm__C=3, svm__gamma=0.5, voting=soft; total time=   0.0s\n",
      "[CV] END rf__max_depth=7, rf__n_estimators=5, svm__C=5, svm__gamma=0.1, voting=soft; total time=   0.1s\n",
      "[CV] END rf__max_depth=7, rf__n_estimators=5, svm__C=5, svm__gamma=0.1, voting=soft; total time=   0.1s\n",
      "[CV] END rf__max_depth=7, rf__n_estimators=5, svm__C=5, svm__gamma=0.1, voting=soft; total time=   0.0s\n",
      "[CV] END rf__max_depth=7, rf__n_estimators=5, svm__C=5, svm__gamma=0.3, voting=soft; total time=   0.0s\n",
      "[CV] END rf__max_depth=7, rf__n_estimators=5, svm__C=5, svm__gamma=0.3, voting=soft; total time=   0.0s\n",
      "[CV] END rf__max_depth=7, rf__n_estimators=5, svm__C=5, svm__gamma=0.3, voting=soft; total time=   0.0s\n",
      "[CV] END rf__max_depth=7, rf__n_estimators=5, svm__C=5, svm__gamma=0.5, voting=soft; total time=   0.0s\n",
      "[CV] END rf__max_depth=7, rf__n_estimators=5, svm__C=5, svm__gamma=0.5, voting=soft; total time=   0.0s\n",
      "[CV] END rf__max_depth=7, rf__n_estimators=5, svm__C=5, svm__gamma=0.5, voting=soft; total time=   0.0s\n",
      "[CV] END rf__max_depth=7, rf__n_estimators=5, svm__C=7, svm__gamma=0.1, voting=soft; total time=   0.0s\n",
      "[CV] END rf__max_depth=7, rf__n_estimators=5, svm__C=7, svm__gamma=0.1, voting=soft; total time=   0.0s\n",
      "[CV] END rf__max_depth=7, rf__n_estimators=5, svm__C=7, svm__gamma=0.1, voting=soft; total time=   0.0s\n",
      "[CV] END rf__max_depth=7, rf__n_estimators=5, svm__C=7, svm__gamma=0.3, voting=soft; total time=   0.0s\n"
     ]
    },
    {
     "name": "stdout",
     "output_type": "stream",
     "text": [
      "[CV] END rf__max_depth=7, rf__n_estimators=5, svm__C=7, svm__gamma=0.3, voting=soft; total time=   0.0s\n",
      "[CV] END rf__max_depth=7, rf__n_estimators=5, svm__C=7, svm__gamma=0.3, voting=soft; total time=   0.0s\n",
      "[CV] END rf__max_depth=7, rf__n_estimators=5, svm__C=7, svm__gamma=0.5, voting=soft; total time=   0.0s\n",
      "[CV] END rf__max_depth=7, rf__n_estimators=5, svm__C=7, svm__gamma=0.5, voting=soft; total time=   0.0s\n",
      "[CV] END rf__max_depth=7, rf__n_estimators=5, svm__C=7, svm__gamma=0.5, voting=soft; total time=   0.0s\n",
      "[CV] END rf__max_depth=7, rf__n_estimators=5, svm__C=10, svm__gamma=0.1, voting=soft; total time=   0.0s\n",
      "[CV] END rf__max_depth=7, rf__n_estimators=5, svm__C=10, svm__gamma=0.1, voting=soft; total time=   0.0s\n",
      "[CV] END rf__max_depth=7, rf__n_estimators=5, svm__C=10, svm__gamma=0.1, voting=soft; total time=   0.0s\n",
      "[CV] END rf__max_depth=7, rf__n_estimators=5, svm__C=10, svm__gamma=0.3, voting=soft; total time=   0.0s\n",
      "[CV] END rf__max_depth=7, rf__n_estimators=5, svm__C=10, svm__gamma=0.3, voting=soft; total time=   0.0s\n",
      "[CV] END rf__max_depth=7, rf__n_estimators=5, svm__C=10, svm__gamma=0.3, voting=soft; total time=   0.0s\n",
      "[CV] END rf__max_depth=7, rf__n_estimators=5, svm__C=10, svm__gamma=0.5, voting=soft; total time=   0.1s\n",
      "[CV] END rf__max_depth=7, rf__n_estimators=5, svm__C=10, svm__gamma=0.5, voting=soft; total time=   0.1s\n",
      "[CV] END rf__max_depth=7, rf__n_estimators=5, svm__C=10, svm__gamma=0.5, voting=soft; total time=   0.0s\n",
      "[CV] END rf__max_depth=7, rf__n_estimators=10, svm__C=3, svm__gamma=0.1, voting=soft; total time=   0.0s\n",
      "[CV] END rf__max_depth=7, rf__n_estimators=10, svm__C=3, svm__gamma=0.1, voting=soft; total time=   0.1s\n",
      "[CV] END rf__max_depth=7, rf__n_estimators=10, svm__C=3, svm__gamma=0.1, voting=soft; total time=   0.1s\n",
      "[CV] END rf__max_depth=7, rf__n_estimators=10, svm__C=3, svm__gamma=0.3, voting=soft; total time=   0.0s\n",
      "[CV] END rf__max_depth=7, rf__n_estimators=10, svm__C=3, svm__gamma=0.3, voting=soft; total time=   0.0s\n",
      "[CV] END rf__max_depth=7, rf__n_estimators=10, svm__C=3, svm__gamma=0.3, voting=soft; total time=   0.1s\n",
      "[CV] END rf__max_depth=7, rf__n_estimators=10, svm__C=3, svm__gamma=0.5, voting=soft; total time=   0.1s\n",
      "[CV] END rf__max_depth=7, rf__n_estimators=10, svm__C=3, svm__gamma=0.5, voting=soft; total time=   0.1s\n",
      "[CV] END rf__max_depth=7, rf__n_estimators=10, svm__C=3, svm__gamma=0.5, voting=soft; total time=   0.1s\n",
      "[CV] END rf__max_depth=7, rf__n_estimators=10, svm__C=5, svm__gamma=0.1, voting=soft; total time=   0.0s\n",
      "[CV] END rf__max_depth=7, rf__n_estimators=10, svm__C=5, svm__gamma=0.1, voting=soft; total time=   0.1s\n",
      "[CV] END rf__max_depth=7, rf__n_estimators=10, svm__C=5, svm__gamma=0.1, voting=soft; total time=   0.1s\n",
      "[CV] END rf__max_depth=7, rf__n_estimators=10, svm__C=5, svm__gamma=0.3, voting=soft; total time=   0.1s\n",
      "[CV] END rf__max_depth=7, rf__n_estimators=10, svm__C=5, svm__gamma=0.3, voting=soft; total time=   0.1s\n",
      "[CV] END rf__max_depth=7, rf__n_estimators=10, svm__C=5, svm__gamma=0.3, voting=soft; total time=   0.0s\n",
      "[CV] END rf__max_depth=7, rf__n_estimators=10, svm__C=5, svm__gamma=0.5, voting=soft; total time=   0.1s\n",
      "[CV] END rf__max_depth=7, rf__n_estimators=10, svm__C=5, svm__gamma=0.5, voting=soft; total time=   0.1s\n",
      "[CV] END rf__max_depth=7, rf__n_estimators=10, svm__C=5, svm__gamma=0.5, voting=soft; total time=   0.1s\n",
      "[CV] END rf__max_depth=7, rf__n_estimators=10, svm__C=7, svm__gamma=0.1, voting=soft; total time=   0.1s\n",
      "[CV] END rf__max_depth=7, rf__n_estimators=10, svm__C=7, svm__gamma=0.1, voting=soft; total time=   0.1s\n",
      "[CV] END rf__max_depth=7, rf__n_estimators=10, svm__C=7, svm__gamma=0.1, voting=soft; total time=   0.1s\n",
      "[CV] END rf__max_depth=7, rf__n_estimators=10, svm__C=7, svm__gamma=0.3, voting=soft; total time=   0.1s\n",
      "[CV] END rf__max_depth=7, rf__n_estimators=10, svm__C=7, svm__gamma=0.3, voting=soft; total time=   0.1s\n",
      "[CV] END rf__max_depth=7, rf__n_estimators=10, svm__C=7, svm__gamma=0.3, voting=soft; total time=   0.1s\n",
      "[CV] END rf__max_depth=7, rf__n_estimators=10, svm__C=7, svm__gamma=0.5, voting=soft; total time=   0.0s\n",
      "[CV] END rf__max_depth=7, rf__n_estimators=10, svm__C=7, svm__gamma=0.5, voting=soft; total time=   0.0s\n",
      "[CV] END rf__max_depth=7, rf__n_estimators=10, svm__C=7, svm__gamma=0.5, voting=soft; total time=   0.1s\n",
      "[CV] END rf__max_depth=7, rf__n_estimators=10, svm__C=10, svm__gamma=0.1, voting=soft; total time=   0.1s\n",
      "[CV] END rf__max_depth=7, rf__n_estimators=10, svm__C=10, svm__gamma=0.1, voting=soft; total time=   0.1s\n",
      "[CV] END rf__max_depth=7, rf__n_estimators=10, svm__C=10, svm__gamma=0.1, voting=soft; total time=   0.0s\n",
      "[CV] END rf__max_depth=7, rf__n_estimators=10, svm__C=10, svm__gamma=0.3, voting=soft; total time=   0.0s\n",
      "[CV] END rf__max_depth=7, rf__n_estimators=10, svm__C=10, svm__gamma=0.3, voting=soft; total time=   0.1s\n",
      "[CV] END rf__max_depth=7, rf__n_estimators=10, svm__C=10, svm__gamma=0.3, voting=soft; total time=   0.1s\n",
      "[CV] END rf__max_depth=7, rf__n_estimators=10, svm__C=10, svm__gamma=0.5, voting=soft; total time=   0.1s\n",
      "[CV] END rf__max_depth=7, rf__n_estimators=10, svm__C=10, svm__gamma=0.5, voting=soft; total time=   0.1s\n",
      "[CV] END rf__max_depth=7, rf__n_estimators=10, svm__C=10, svm__gamma=0.5, voting=soft; total time=   0.0s\n",
      "[CV] END rf__max_depth=7, rf__n_estimators=20, svm__C=3, svm__gamma=0.1, voting=soft; total time=   0.1s\n",
      "[CV] END rf__max_depth=7, rf__n_estimators=20, svm__C=3, svm__gamma=0.1, voting=soft; total time=   0.1s\n",
      "[CV] END rf__max_depth=7, rf__n_estimators=20, svm__C=3, svm__gamma=0.1, voting=soft; total time=   0.1s\n",
      "[CV] END rf__max_depth=7, rf__n_estimators=20, svm__C=3, svm__gamma=0.3, voting=soft; total time=   0.1s\n",
      "[CV] END rf__max_depth=7, rf__n_estimators=20, svm__C=3, svm__gamma=0.3, voting=soft; total time=   0.2s\n",
      "[CV] END rf__max_depth=7, rf__n_estimators=20, svm__C=3, svm__gamma=0.3, voting=soft; total time=   0.2s\n",
      "[CV] END rf__max_depth=7, rf__n_estimators=20, svm__C=3, svm__gamma=0.5, voting=soft; total time=   0.2s\n",
      "[CV] END rf__max_depth=7, rf__n_estimators=20, svm__C=3, svm__gamma=0.5, voting=soft; total time=   0.2s\n",
      "[CV] END rf__max_depth=7, rf__n_estimators=20, svm__C=3, svm__gamma=0.5, voting=soft; total time=   0.2s\n",
      "[CV] END rf__max_depth=7, rf__n_estimators=20, svm__C=5, svm__gamma=0.1, voting=soft; total time=   0.2s\n",
      "[CV] END rf__max_depth=7, rf__n_estimators=20, svm__C=5, svm__gamma=0.1, voting=soft; total time=   0.1s\n",
      "[CV] END rf__max_depth=7, rf__n_estimators=20, svm__C=5, svm__gamma=0.1, voting=soft; total time=   0.2s\n",
      "[CV] END rf__max_depth=7, rf__n_estimators=20, svm__C=5, svm__gamma=0.3, voting=soft; total time=   0.2s\n",
      "[CV] END rf__max_depth=7, rf__n_estimators=20, svm__C=5, svm__gamma=0.3, voting=soft; total time=   0.2s\n",
      "[CV] END rf__max_depth=7, rf__n_estimators=20, svm__C=5, svm__gamma=0.3, voting=soft; total time=   0.2s\n",
      "[CV] END rf__max_depth=7, rf__n_estimators=20, svm__C=5, svm__gamma=0.5, voting=soft; total time=   0.2s\n",
      "[CV] END rf__max_depth=7, rf__n_estimators=20, svm__C=5, svm__gamma=0.5, voting=soft; total time=   0.2s\n",
      "[CV] END rf__max_depth=7, rf__n_estimators=20, svm__C=5, svm__gamma=0.5, voting=soft; total time=   0.1s\n",
      "[CV] END rf__max_depth=7, rf__n_estimators=20, svm__C=7, svm__gamma=0.1, voting=soft; total time=   0.2s\n",
      "[CV] END rf__max_depth=7, rf__n_estimators=20, svm__C=7, svm__gamma=0.1, voting=soft; total time=   0.1s\n",
      "[CV] END rf__max_depth=7, rf__n_estimators=20, svm__C=7, svm__gamma=0.1, voting=soft; total time=   0.2s\n",
      "[CV] END rf__max_depth=7, rf__n_estimators=20, svm__C=7, svm__gamma=0.3, voting=soft; total time=   0.2s\n",
      "[CV] END rf__max_depth=7, rf__n_estimators=20, svm__C=7, svm__gamma=0.3, voting=soft; total time=   0.2s\n",
      "[CV] END rf__max_depth=7, rf__n_estimators=20, svm__C=7, svm__gamma=0.3, voting=soft; total time=   0.1s\n",
      "[CV] END rf__max_depth=7, rf__n_estimators=20, svm__C=7, svm__gamma=0.5, voting=soft; total time=   0.1s\n",
      "[CV] END rf__max_depth=7, rf__n_estimators=20, svm__C=7, svm__gamma=0.5, voting=soft; total time=   0.1s\n",
      "[CV] END rf__max_depth=7, rf__n_estimators=20, svm__C=7, svm__gamma=0.5, voting=soft; total time=   0.2s\n",
      "[CV] END rf__max_depth=7, rf__n_estimators=20, svm__C=10, svm__gamma=0.1, voting=soft; total time=   0.1s\n"
     ]
    },
    {
     "name": "stdout",
     "output_type": "stream",
     "text": [
      "[CV] END rf__max_depth=7, rf__n_estimators=20, svm__C=10, svm__gamma=0.1, voting=soft; total time=   0.2s\n",
      "[CV] END rf__max_depth=7, rf__n_estimators=20, svm__C=10, svm__gamma=0.1, voting=soft; total time=   0.1s\n",
      "[CV] END rf__max_depth=7, rf__n_estimators=20, svm__C=10, svm__gamma=0.3, voting=soft; total time=   0.2s\n",
      "[CV] END rf__max_depth=7, rf__n_estimators=20, svm__C=10, svm__gamma=0.3, voting=soft; total time=   0.1s\n",
      "[CV] END rf__max_depth=7, rf__n_estimators=20, svm__C=10, svm__gamma=0.3, voting=soft; total time=   0.1s\n",
      "[CV] END rf__max_depth=7, rf__n_estimators=20, svm__C=10, svm__gamma=0.5, voting=soft; total time=   0.1s\n",
      "[CV] END rf__max_depth=7, rf__n_estimators=20, svm__C=10, svm__gamma=0.5, voting=soft; total time=   0.1s\n",
      "[CV] END rf__max_depth=7, rf__n_estimators=20, svm__C=10, svm__gamma=0.5, voting=soft; total time=   0.1s\n"
     ]
    },
    {
     "data": {
      "text/html": [
       "<style>#sk-container-id-5 {color: black;}#sk-container-id-5 pre{padding: 0;}#sk-container-id-5 div.sk-toggleable {background-color: white;}#sk-container-id-5 label.sk-toggleable__label {cursor: pointer;display: block;width: 100%;margin-bottom: 0;padding: 0.3em;box-sizing: border-box;text-align: center;}#sk-container-id-5 label.sk-toggleable__label-arrow:before {content: \"▸\";float: left;margin-right: 0.25em;color: #696969;}#sk-container-id-5 label.sk-toggleable__label-arrow:hover:before {color: black;}#sk-container-id-5 div.sk-estimator:hover label.sk-toggleable__label-arrow:before {color: black;}#sk-container-id-5 div.sk-toggleable__content {max-height: 0;max-width: 0;overflow: hidden;text-align: left;background-color: #f0f8ff;}#sk-container-id-5 div.sk-toggleable__content pre {margin: 0.2em;color: black;border-radius: 0.25em;background-color: #f0f8ff;}#sk-container-id-5 input.sk-toggleable__control:checked~div.sk-toggleable__content {max-height: 200px;max-width: 100%;overflow: auto;}#sk-container-id-5 input.sk-toggleable__control:checked~label.sk-toggleable__label-arrow:before {content: \"▾\";}#sk-container-id-5 div.sk-estimator input.sk-toggleable__control:checked~label.sk-toggleable__label {background-color: #d4ebff;}#sk-container-id-5 div.sk-label input.sk-toggleable__control:checked~label.sk-toggleable__label {background-color: #d4ebff;}#sk-container-id-5 input.sk-hidden--visually {border: 0;clip: rect(1px 1px 1px 1px);clip: rect(1px, 1px, 1px, 1px);height: 1px;margin: -1px;overflow: hidden;padding: 0;position: absolute;width: 1px;}#sk-container-id-5 div.sk-estimator {font-family: monospace;background-color: #f0f8ff;border: 1px dotted black;border-radius: 0.25em;box-sizing: border-box;margin-bottom: 0.5em;}#sk-container-id-5 div.sk-estimator:hover {background-color: #d4ebff;}#sk-container-id-5 div.sk-parallel-item::after {content: \"\";width: 100%;border-bottom: 1px solid gray;flex-grow: 1;}#sk-container-id-5 div.sk-label:hover label.sk-toggleable__label {background-color: #d4ebff;}#sk-container-id-5 div.sk-serial::before {content: \"\";position: absolute;border-left: 1px solid gray;box-sizing: border-box;top: 0;bottom: 0;left: 50%;z-index: 0;}#sk-container-id-5 div.sk-serial {display: flex;flex-direction: column;align-items: center;background-color: white;padding-right: 0.2em;padding-left: 0.2em;position: relative;}#sk-container-id-5 div.sk-item {position: relative;z-index: 1;}#sk-container-id-5 div.sk-parallel {display: flex;align-items: stretch;justify-content: center;background-color: white;position: relative;}#sk-container-id-5 div.sk-item::before, #sk-container-id-5 div.sk-parallel-item::before {content: \"\";position: absolute;border-left: 1px solid gray;box-sizing: border-box;top: 0;bottom: 0;left: 50%;z-index: -1;}#sk-container-id-5 div.sk-parallel-item {display: flex;flex-direction: column;z-index: 1;position: relative;background-color: white;}#sk-container-id-5 div.sk-parallel-item:first-child::after {align-self: flex-end;width: 50%;}#sk-container-id-5 div.sk-parallel-item:last-child::after {align-self: flex-start;width: 50%;}#sk-container-id-5 div.sk-parallel-item:only-child::after {width: 0;}#sk-container-id-5 div.sk-dashed-wrapped {border: 1px dashed gray;margin: 0 0.4em 0.5em 0.4em;box-sizing: border-box;padding-bottom: 0.4em;background-color: white;}#sk-container-id-5 div.sk-label label {font-family: monospace;font-weight: bold;display: inline-block;line-height: 1.2em;}#sk-container-id-5 div.sk-label-container {text-align: center;}#sk-container-id-5 div.sk-container {/* jupyter's `normalize.less` sets `[hidden] { display: none; }` but bootstrap.min.css set `[hidden] { display: none !important; }` so we also need the `!important` here to be able to override the default hidden behavior on the sphinx rendered scikit-learn.org. See: https://github.com/scikit-learn/scikit-learn/issues/21755 */display: inline-block !important;position: relative;}#sk-container-id-5 div.sk-text-repr-fallback {display: none;}</style><div id=\"sk-container-id-5\" class=\"sk-top-container\"><div class=\"sk-text-repr-fallback\"><pre>GridSearchCV(cv=3,\n",
       "             estimator=VotingClassifier(estimators=[(&#x27;logistic&#x27;,\n",
       "                                                     LogisticRegression()),\n",
       "                                                    (&#x27;svm&#x27;,\n",
       "                                                     SVC(probability=True)),\n",
       "                                                    (&#x27;rf&#x27;,\n",
       "                                                     RandomForestClassifier())],\n",
       "                                        voting=&#x27;soft&#x27;, weights=[2, 3, 1]),\n",
       "             n_jobs=1,\n",
       "             param_grid={&#x27;rf__max_depth&#x27;: [3, 5, 7],\n",
       "                         &#x27;rf__n_estimators&#x27;: [5, 10, 20],\n",
       "                         &#x27;svm__C&#x27;: [3, 5, 7, 10], &#x27;svm__gamma&#x27;: [0.1, 0.3, 0.5],\n",
       "                         &#x27;voting&#x27;: [&#x27;soft&#x27;]},\n",
       "             scoring=&#x27;accuracy&#x27;, verbose=2)</pre><b>In a Jupyter environment, please rerun this cell to show the HTML representation or trust the notebook. <br />On GitHub, the HTML representation is unable to render, please try loading this page with nbviewer.org.</b></div><div class=\"sk-container\" hidden><div class=\"sk-item sk-dashed-wrapped\"><div class=\"sk-label-container\"><div class=\"sk-label sk-toggleable\"><input class=\"sk-toggleable__control sk-hidden--visually\" id=\"sk-estimator-id-8\" type=\"checkbox\" ><label for=\"sk-estimator-id-8\" class=\"sk-toggleable__label sk-toggleable__label-arrow\">GridSearchCV</label><div class=\"sk-toggleable__content\"><pre>GridSearchCV(cv=3,\n",
       "             estimator=VotingClassifier(estimators=[(&#x27;logistic&#x27;,\n",
       "                                                     LogisticRegression()),\n",
       "                                                    (&#x27;svm&#x27;,\n",
       "                                                     SVC(probability=True)),\n",
       "                                                    (&#x27;rf&#x27;,\n",
       "                                                     RandomForestClassifier())],\n",
       "                                        voting=&#x27;soft&#x27;, weights=[2, 3, 1]),\n",
       "             n_jobs=1,\n",
       "             param_grid={&#x27;rf__max_depth&#x27;: [3, 5, 7],\n",
       "                         &#x27;rf__n_estimators&#x27;: [5, 10, 20],\n",
       "                         &#x27;svm__C&#x27;: [3, 5, 7, 10], &#x27;svm__gamma&#x27;: [0.1, 0.3, 0.5],\n",
       "                         &#x27;voting&#x27;: [&#x27;soft&#x27;]},\n",
       "             scoring=&#x27;accuracy&#x27;, verbose=2)</pre></div></div></div><div class=\"sk-parallel\"><div class=\"sk-parallel-item\"><div class=\"sk-item\"><div class=\"sk-label-container\"><div class=\"sk-label sk-toggleable\"><input class=\"sk-toggleable__control sk-hidden--visually\" id=\"sk-estimator-id-9\" type=\"checkbox\" ><label for=\"sk-estimator-id-9\" class=\"sk-toggleable__label sk-toggleable__label-arrow\">estimator: VotingClassifier</label><div class=\"sk-toggleable__content\"><pre>VotingClassifier(estimators=[(&#x27;logistic&#x27;, LogisticRegression()),\n",
       "                             (&#x27;svm&#x27;, SVC(probability=True)),\n",
       "                             (&#x27;rf&#x27;, RandomForestClassifier())],\n",
       "                 voting=&#x27;soft&#x27;, weights=[2, 3, 1])</pre></div></div></div><div class=\"sk-serial\"><div class=\"sk-item sk-dashed-wrapped\"><div class=\"sk-parallel\"><div class=\"sk-parallel-item\"><div class=\"sk-item\"><div class=\"sk-label-container\"><div class=\"sk-label sk-toggleable\"><label>logistic</label></div></div><div class=\"sk-serial\"><div class=\"sk-item\"><div class=\"sk-estimator sk-toggleable\"><input class=\"sk-toggleable__control sk-hidden--visually\" id=\"sk-estimator-id-10\" type=\"checkbox\" ><label for=\"sk-estimator-id-10\" class=\"sk-toggleable__label sk-toggleable__label-arrow\">LogisticRegression</label><div class=\"sk-toggleable__content\"><pre>LogisticRegression()</pre></div></div></div></div></div></div><div class=\"sk-parallel-item\"><div class=\"sk-item\"><div class=\"sk-label-container\"><div class=\"sk-label sk-toggleable\"><label>svm</label></div></div><div class=\"sk-serial\"><div class=\"sk-item\"><div class=\"sk-estimator sk-toggleable\"><input class=\"sk-toggleable__control sk-hidden--visually\" id=\"sk-estimator-id-11\" type=\"checkbox\" ><label for=\"sk-estimator-id-11\" class=\"sk-toggleable__label sk-toggleable__label-arrow\">SVC</label><div class=\"sk-toggleable__content\"><pre>SVC(probability=True)</pre></div></div></div></div></div></div><div class=\"sk-parallel-item\"><div class=\"sk-item\"><div class=\"sk-label-container\"><div class=\"sk-label sk-toggleable\"><label>rf</label></div></div><div class=\"sk-serial\"><div class=\"sk-item\"><div class=\"sk-estimator sk-toggleable\"><input class=\"sk-toggleable__control sk-hidden--visually\" id=\"sk-estimator-id-12\" type=\"checkbox\" ><label for=\"sk-estimator-id-12\" class=\"sk-toggleable__label sk-toggleable__label-arrow\">RandomForestClassifier</label><div class=\"sk-toggleable__content\"><pre>RandomForestClassifier()</pre></div></div></div></div></div></div></div></div></div></div></div></div></div></div></div>"
      ],
      "text/plain": [
       "GridSearchCV(cv=3,\n",
       "             estimator=VotingClassifier(estimators=[('logistic',\n",
       "                                                     LogisticRegression()),\n",
       "                                                    ('svm',\n",
       "                                                     SVC(probability=True)),\n",
       "                                                    ('rf',\n",
       "                                                     RandomForestClassifier())],\n",
       "                                        voting='soft', weights=[2, 3, 1]),\n",
       "             n_jobs=1,\n",
       "             param_grid={'rf__max_depth': [3, 5, 7],\n",
       "                         'rf__n_estimators': [5, 10, 20],\n",
       "                         'svm__C': [3, 5, 7, 10], 'svm__gamma': [0.1, 0.3, 0.5],\n",
       "                         'voting': ['soft']},\n",
       "             scoring='accuracy', verbose=2)"
      ]
     },
     "execution_count": 22,
     "metadata": {},
     "output_type": "execute_result"
    }
   ],
   "source": [
    "model_grid.fit(x_train,y_train)"
   ]
  },
  {
   "cell_type": "code",
   "execution_count": 23,
   "metadata": {
    "id": "aDlmfn8_7VnR"
   },
   "outputs": [],
   "source": [
    "model_best_estimator = model_grid.best_estimator_"
   ]
  },
  {
   "cell_type": "code",
   "execution_count": 24,
   "metadata": {
    "id": "Xo2xx1BM7VnR",
    "outputId": "1b2514ec-0e54-4abb-c693-776da8f6c717"
   },
   "outputs": [
    {
     "data": {
      "text/plain": [
       "0.8984126984126984"
      ]
     },
     "execution_count": 24,
     "metadata": {},
     "output_type": "execute_result"
    }
   ],
   "source": [
    "model_grid.best_score_"
   ]
  },
  {
   "cell_type": "markdown",
   "metadata": {
    "id": "3IqhVN2a7VnS"
   },
   "source": [
    "# 4. Save Model"
   ]
  },
  {
   "cell_type": "code",
   "execution_count": 25,
   "metadata": {
    "id": "BosoN9FD7VnS"
   },
   "outputs": [],
   "source": [
    "pickle.dump(model_best_estimator,open('./models/machinelearning_face_person_identity.pkl',mode='wb'))"
   ]
  },
  {
   "cell_type": "code",
   "execution_count": null,
   "metadata": {},
   "outputs": [],
   "source": []
  }
 ],
 "metadata": {
  "colab": {
   "name": "2_train_machine_learning_model.ipynb",
   "provenance": []
  },
  "kernelspec": {
   "display_name": "Python 3 (ipykernel)",
   "language": "python",
   "name": "python3"
  },
  "language_info": {
   "codemirror_mode": {
    "name": "ipython",
    "version": 3
   },
   "file_extension": ".py",
   "mimetype": "text/x-python",
   "name": "python",
   "nbconvert_exporter": "python",
   "pygments_lexer": "ipython3",
   "version": "3.11.5"
  }
 },
 "nbformat": 4,
 "nbformat_minor": 1
}
